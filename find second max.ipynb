{
 "cells": [
  {
   "cell_type": "code",
   "execution_count": 66,
   "metadata": {},
   "outputs": [
    {
     "name": "stdout",
     "output_type": "stream",
     "text": [
      "second max: 1311\n"
     ]
    }
   ],
   "source": [
    "# find second max\n",
    "def find_second_max(numbers):\n",
    "    for number in range(len(numbers) - 1, 0, -1):\n",
    "        for i in range(number):\n",
    "            if numbers[i] > numbers[i + 1]:\n",
    "                temp = numbers[i]\n",
    "                numbers[i] = numbers[i + 1]\n",
    "                numbers[i + 1] = temp\n",
    "numbers = [5232, 121, 5, 3, 9, 12, 5, 1311]\n",
    "find_second_max(numbers)\n",
    "second_max = numbers[len(numbers) - 2]\n",
    "print('second max: {0}'.format(second_max))"
   ]
  },
  {
   "cell_type": "code",
   "execution_count": null,
   "metadata": {
    "collapsed": true
   },
   "outputs": [],
   "source": []
  }
 ],
 "metadata": {
  "kernelspec": {
   "display_name": "Python 3",
   "language": "python",
   "name": "python3"
  },
  "language_info": {
   "codemirror_mode": {
    "name": "ipython",
    "version": 2
   },
   "file_extension": ".py",
   "mimetype": "text/x-python",
   "name": "python",
   "nbconvert_exporter": "python",
   "pygments_lexer": "ipython2",
   "version": "2.7.12"
  }
 },
 "nbformat": 4,
 "nbformat_minor": 2
}

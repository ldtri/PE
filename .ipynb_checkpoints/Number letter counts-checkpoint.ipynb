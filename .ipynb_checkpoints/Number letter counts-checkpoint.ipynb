{
 "cells": [
  {
   "cell_type": "code",
   "execution_count": 1,
   "metadata": {
    "collapsed": true
   },
   "outputs": [],
   "source": [
    "_str = '''\n",
    "If the numbers 1 to 5 are written out in words: one, two, three, four, five, \n",
    "then there are 3 + 3 + 5 + 4 + 4 = 19 letters used in total.\n",
    "\n",
    "If all the numbers from 1 to 1000 (one thousand) inclusive were written out in words,\n",
    "how many letters would be used?\n",
    "\n",
    "\n",
    "NOTE: Do not count spaces or hyphens. For example, 342 (three hundred and forty-two) contains 23 letters and\n",
    "115 (one hundred and fifteen) contains 20 letters. The use of \"and\" when writing out numbers is in compliance with\n",
    "British usage.\n",
    "'''"
   ]
  },
  {
   "cell_type": "code",
   "execution_count": 26,
   "metadata": {},
   "outputs": [
    {
     "name": "stdout",
     "output_type": "stream",
     "text": [
      "17398\n"
     ]
    }
   ],
   "source": [
    "ONETHOUSAND = 1000\n",
    "UNITS = {1: \"one\",\n",
    "         2: \"two\",\n",
    "         3: \"three\",\n",
    "         4: \"four\",\n",
    "         5: \"five\",\n",
    "         6: \"six\",\n",
    "         7: \"seven\",\n",
    "         8: \"eight\",\n",
    "         9: \"nine\",\n",
    "         10: \"ten\",\n",
    "         11: \"eleven\",\n",
    "         12: \"twelve\",\n",
    "         13: \"thirteen\",\n",
    "         14: \"fourteen\",\n",
    "         15: \"fifteen\",\n",
    "         16: \"sixteen\",\n",
    "         17: \"seventeen\",\n",
    "         18: \"eighteen\",\n",
    "         19: \"nineteen\",\n",
    "         20: \"twenty\",\n",
    "         30: \"thirty\",\n",
    "         40: \"forty\",\n",
    "         50: \"fifty\",\n",
    "         60: \"sixty\",\n",
    "         70: \"seventy\",\n",
    "         80: \"eighty\",\n",
    "         90: \"ninety\",\n",
    "         100: \"hundred\",\n",
    "         1000: \"thousand\"}\n",
    "total = 0\n",
    "for number in range(1, ONETHOUSAND + 1):\n",
    "    letters = 0\n",
    "    if len(str(number)) == 1:\n",
    "        letters = len(UNITS[number])        \n",
    "    elif len(str(number)) == 2:\n",
    "        if number in UNITS:\n",
    "            letters = len(UNITS[number])\n",
    "        else:\n",
    "            ones = number % 10\n",
    "            tens = number - ones\n",
    "            letters = len(UNITS[tens]) + len(UNITS[ones])\n",
    "    elif len(str(number)) == 3:\n",
    "        if number % 100 == 0:\n",
    "            hundreds = number / 100\n",
    "            letters = len(UNITS[hundreds]) + len(UNITS[100])\n",
    "        elif number % 10 == 0:\n",
    "            tens = number % 100\n",
    "            hundreds = (number - tens) / 100\n",
    "            letters = len(UNITS[hundreds]) + len(UNITS[100]) + 3 + len(UNITS[tens])\n",
    "        else:\n",
    "            ones = number % 10\n",
    "            tens = (number - ones) % 100\n",
    "            hundreds = (number - tens - ones) / 100\n",
    "            if tens / 10 > 1:\n",
    "                letters = len(UNITS[hundreds]) + len(UNITS[100]) + 3 + len(UNITS[tens]) + len(UNITS[ones])\n",
    "            if tens / 10 == 1:\n",
    "                letters = len(UNITS[hundreds]) + len(UNITS[100]) + 3 + len(UNITS[tens + ones])\n",
    "            else:\n",
    "                letters = len(UNITS[hundreds]) + len(UNITS[100]) + 3 + len(UNITS[ones])\n",
    "                \n",
    "    else:\n",
    "        letters = len(UNITS[1]) + len(UNITS[1000])\n",
    "    total += letters\n",
    "print(total)\n"
   ]
  },
  {
   "cell_type": "code",
   "execution_count": null,
   "metadata": {
    "collapsed": true
   },
   "outputs": [],
   "source": []
  }
 ],
 "metadata": {
  "kernelspec": {
   "display_name": "Python 3",
   "language": "python",
   "name": "python3"
  },
  "language_info": {
   "codemirror_mode": {
    "name": "ipython",
    "version": 2
   },
   "file_extension": ".py",
   "mimetype": "text/x-python",
   "name": "python",
   "nbconvert_exporter": "python",
   "pygments_lexer": "ipython2",
   "version": "2.7.12"
  }
 },
 "nbformat": 4,
 "nbformat_minor": 2
}

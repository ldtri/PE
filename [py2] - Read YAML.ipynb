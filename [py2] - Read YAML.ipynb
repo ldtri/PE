{
 "cells": [
  {
   "cell_type": "code",
   "execution_count": 2,
   "metadata": {},
   "outputs": [
    {
     "data": {
      "text/plain": [
       "True"
      ]
     },
     "execution_count": 2,
     "metadata": {},
     "output_type": "execute_result"
    }
   ],
   "source": [
    "manifest_api = ''\n",
    "manifest_mysql = ''\n",
    "makefile = ''\n",
    "name = 'app-templates-api'\n",
    "with open('../Desktop/manifest.yaml', 'r') as f:\n",
    "    _data = f.read()\n",
    "    manifest_api = _data.replace('##NAME##', name)\n",
    "f.closed    \n",
    "with open('../Desktop/manifest-mysql.yaml', 'r') as f:\n",
    "    _data = f.read()\n",
    "    manifest_mysql = _data.replace('##NAME##', name)\n",
    "f.closed\n",
    "with open('../Desktop/Makefile', 'r') as f:\n",
    "    _data = f.read()\n",
    "    manifest_mysql = _data.replace('##NAME##', name)\n",
    "f.closed\n"
   ]
  },
  {
   "cell_type": "code",
   "execution_count": null,
   "metadata": {
    "collapsed": true
   },
   "outputs": [],
   "source": []
  }
 ],
 "metadata": {
  "kernelspec": {
   "display_name": "Python 2",
   "language": "python",
   "name": "python2"
  },
  "language_info": {
   "codemirror_mode": {
    "name": "ipython",
    "version": 2
   },
   "file_extension": ".py",
   "mimetype": "text/x-python",
   "name": "python",
   "nbconvert_exporter": "python",
   "pygments_lexer": "ipython2",
   "version": "2.7.12"
  }
 },
 "nbformat": 4,
 "nbformat_minor": 2
}
